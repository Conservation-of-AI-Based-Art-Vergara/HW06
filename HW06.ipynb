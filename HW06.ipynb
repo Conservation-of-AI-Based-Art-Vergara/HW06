{
  "nbformat": 4,
  "nbformat_minor": 0,
  "metadata": {
    "colab": {
      "provenance": [],
      "gpuType": "T4"
    },
    "kernelspec": {
      "name": "python3",
      "display_name": "Python 3"
    },
    "language_info": {
      "name": "python"
    },
    "accelerator": "GPU"
  },
  "cells": [
    {
      "cell_type": "markdown",
      "source": [
        "# SDXL with Emoji LoRA"
      ],
      "metadata": {
        "id": "ModdQJtDIS7r"
      }
    },
    {
      "cell_type": "code",
      "source": [
        "!git clone https://github.com/replicate/cog-sdxl cog_sdxl"
      ],
      "metadata": {
        "id": "FXoDHFbpI4th"
      },
      "execution_count": null,
      "outputs": []
    },
    {
      "cell_type": "code",
      "source": [
        "import torch\n",
        "from huggingface_hub import hf_hub_download\n",
        "from diffusers import DiffusionPipeline\n",
        "from cog_sdxl.dataset_and_utils import TokenEmbeddingsHandler"
      ],
      "metadata": {
        "id": "BJ2sQviGI1cr"
      },
      "execution_count": null,
      "outputs": []
    },
    {
      "cell_type": "code",
      "source": [
        "pipe = DiffusionPipeline.from_pretrained(\"stabilityai/stable-diffusion-xl-base-1.0\",\n",
        "                                         torch_dtype=torch.float16,\n",
        "                                         use_safetensors=True,\n",
        "                                         variant=\"fp16\").to(\"cuda\")\n",
        "\n",
        "pipe.load_lora_weights(\"fofr/sdxl-emoji\", weight_name=\"lora.safetensors\")"
      ],
      "metadata": {
        "id": "abqMuQ3BIkjb"
      },
      "execution_count": null,
      "outputs": []
    },
    {
      "cell_type": "code",
      "source": [
        "text_encoders = [pipe.text_encoder, pipe.text_encoder_2]\n",
        "tokenizers = [pipe.tokenizer, pipe.tokenizer_2]\n",
        "\n",
        "embedding_path = hf_hub_download(repo_id=\"fofr/sdxl-emoji\", filename=\"embeddings.pti\", repo_type=\"model\")\n",
        "embhandler = TokenEmbeddingsHandler(text_encoders, tokenizers)\n",
        "embhandler.load_embeddings(embedding_path)"
      ],
      "metadata": {
        "id": "8vrA6y4KH7HU"
      },
      "execution_count": null,
      "outputs": []
    },
    {
      "cell_type": "code",
      "source": [
        "prompt=\"<s0><s1> emoji of hamburger person\"\n",
        "out = pipe(prompt, width=512, height=512, cross_attention_kwargs={\"scale\": 0.8})\n",
        "\n",
        "display(out.images[0])"
      ],
      "metadata": {
        "id": "gHRlyGN7Id7e"
      },
      "execution_count": null,
      "outputs": []
    }
  ]
}